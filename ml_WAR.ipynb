{
 "cells": [
  {
   "cell_type": "code",
   "execution_count": 1,
   "metadata": {},
   "outputs": [],
   "source": [
    "import os\n",
    "import pandas as pd\n",
    "import numpy as np\n",
    "from pybaseball import batting_stats\n",
    "import time\n",
    "import glob"
   ]
  },
  {
   "cell_type": "code",
   "execution_count": 3,
   "metadata": {},
   "outputs": [
    {
     "ename": "HTTPError",
     "evalue": "Error accessing 'https://www.fangraphs.com/leaders.aspx'. Received status code 500",
     "output_type": "error",
     "traceback": [
      "\u001b[0;31m---------------------------------------------------------------------------\u001b[0m",
      "\u001b[0;31mHTTPError\u001b[0m                                 Traceback (most recent call last)",
      "Cell \u001b[0;32mIn[3], line 4\u001b[0m\n\u001b[1;32m      1\u001b[0m START \u001b[39m=\u001b[39m \u001b[39m1973\u001b[39m\n\u001b[1;32m      2\u001b[0m END \u001b[39m=\u001b[39m \u001b[39m2023\u001b[39m\n\u001b[0;32m----> 4\u001b[0m batting \u001b[39m=\u001b[39m batting_stats(START, END, qual\u001b[39m=\u001b[39;49m\u001b[39m200\u001b[39;49m)\n\u001b[1;32m      5\u001b[0m batting \u001b[39m=\u001b[39m batting\u001b[39m.\u001b[39mgroupby(\u001b[39m\"\u001b[39m\u001b[39mIDfg\u001b[39m\u001b[39m\"\u001b[39m, group_keys\u001b[39m=\u001b[39m\u001b[39mFalse\u001b[39;00m)\u001b[39m.\u001b[39mfilter(\u001b[39mlambda\u001b[39;00m x: x\u001b[39m.\u001b[39mshape[\u001b[39m0\u001b[39m] \u001b[39m>\u001b[39m \u001b[39m1\u001b[39m)\n\u001b[1;32m      7\u001b[0m batting\u001b[39m.\u001b[39mto_csv(\u001b[39m\"\u001b[39m\u001b[39mfiddy.csv\u001b[39m\u001b[39m\"\u001b[39m)\n",
      "File \u001b[0;32m~/Library/Python/3.9/lib/python/site-packages/pybaseball/cache/cache.py:58\u001b[0m, in \u001b[0;36mdf_cache.__call__.<locals>._cached\u001b[0;34m(*args, **kwargs)\u001b[0m\n\u001b[1;32m     55\u001b[0m result \u001b[39m=\u001b[39m \u001b[39mself\u001b[39m\u001b[39m.\u001b[39m_safe_load_func_cache(func_data)\n\u001b[1;32m     57\u001b[0m \u001b[39mif\u001b[39;00m result \u001b[39mis\u001b[39;00m \u001b[39mNone\u001b[39;00m:\n\u001b[0;32m---> 58\u001b[0m     result \u001b[39m=\u001b[39m func(\u001b[39m*\u001b[39;49margs, \u001b[39m*\u001b[39;49m\u001b[39m*\u001b[39;49mkwargs)\n\u001b[1;32m     59\u001b[0m     \u001b[39mif\u001b[39;00m \u001b[39mlen\u001b[39m(result) \u001b[39m>\u001b[39m \u001b[39m0\u001b[39m:\n\u001b[1;32m     60\u001b[0m         \u001b[39mself\u001b[39m\u001b[39m.\u001b[39m_safe_save_func_cache(func_data, result)\n",
      "File \u001b[0;32m~/Library/Python/3.9/lib/python/site-packages/pybaseball/datasources/fangraphs.py:176\u001b[0m, in \u001b[0;36mFangraphsBattingStatsTable.fetch\u001b[0;34m(self, *args, **kwargs)\u001b[0m\n\u001b[1;32m    174\u001b[0m \u001b[39m@cache\u001b[39m\u001b[39m.\u001b[39mdf_cache()\n\u001b[1;32m    175\u001b[0m \u001b[39mdef\u001b[39;00m \u001b[39mfetch\u001b[39m(\u001b[39mself\u001b[39m, \u001b[39m*\u001b[39margs, \u001b[39m*\u001b[39m\u001b[39m*\u001b[39mkwargs):\n\u001b[0;32m--> 176\u001b[0m     \u001b[39mreturn\u001b[39;00m \u001b[39msuper\u001b[39;49m()\u001b[39m.\u001b[39;49mfetch(\u001b[39m*\u001b[39;49margs, \u001b[39m*\u001b[39;49m\u001b[39m*\u001b[39;49mkwargs)\n",
      "File \u001b[0;32m~/Library/Python/3.9/lib/python/site-packages/pybaseball/datasources/fangraphs.py:154\u001b[0m, in \u001b[0;36mFangraphsDataTable.fetch\u001b[0;34m(self, start_season, end_season, league, ind, stat_columns, qual, split_seasons, month, on_active_roster, minimum_age, maximum_age, team, _filter, players, position, max_results)\u001b[0m\n\u001b[1;32m    132\u001b[0m     \u001b[39mraise\u001b[39;00m \u001b[39mValueError\u001b[39;00m(\u001b[39m\"\u001b[39m\u001b[39mparameter \u001b[39m\u001b[39m'\u001b[39m\u001b[39mleague\u001b[39m\u001b[39m'\u001b[39m\u001b[39m cannot be None.\u001b[39m\u001b[39m\"\u001b[39m)\n\u001b[1;32m    134\u001b[0m url_options \u001b[39m=\u001b[39m {\n\u001b[1;32m    135\u001b[0m     \u001b[39m'\u001b[39m\u001b[39mpos\u001b[39m\u001b[39m'\u001b[39m: FangraphsPositions\u001b[39m.\u001b[39mparse(position)\u001b[39m.\u001b[39mvalue,\n\u001b[1;32m    136\u001b[0m     \u001b[39m'\u001b[39m\u001b[39mstats\u001b[39m\u001b[39m'\u001b[39m: \u001b[39mself\u001b[39m\u001b[39m.\u001b[39mSTATS_CATEGORY\u001b[39m.\u001b[39mvalue,\n\u001b[0;32m   (...)\u001b[0m\n\u001b[1;32m    149\u001b[0m     \u001b[39m'\u001b[39m\u001b[39mpage\u001b[39m\u001b[39m'\u001b[39m: \u001b[39mf\u001b[39m\u001b[39m'\u001b[39m\u001b[39m1_\u001b[39m\u001b[39m{\u001b[39;00mmax_results\u001b[39m}\u001b[39;00m\u001b[39m'\u001b[39m\n\u001b[1;32m    150\u001b[0m }\n\u001b[1;32m    152\u001b[0m \u001b[39mreturn\u001b[39;00m \u001b[39mself\u001b[39m\u001b[39m.\u001b[39m_validate(\n\u001b[1;32m    153\u001b[0m     \u001b[39mself\u001b[39m\u001b[39m.\u001b[39m_postprocess(\n\u001b[0;32m--> 154\u001b[0m         \u001b[39mself\u001b[39;49m\u001b[39m.\u001b[39;49mhtml_accessor\u001b[39m.\u001b[39;49mget_tabular_data_from_options(\n\u001b[1;32m    155\u001b[0m             \u001b[39mself\u001b[39;49m\u001b[39m.\u001b[39;49mQUERY_ENDPOINT,\n\u001b[1;32m    156\u001b[0m             query_params\u001b[39m=\u001b[39;49murl_options,\n\u001b[1;32m    157\u001b[0m             \u001b[39m# TODO: Remove the type: ignore after this is fixed: https://github.com/python/mypy/issues/5485\u001b[39;49;00m\n\u001b[1;32m    158\u001b[0m             column_name_mapper\u001b[39m=\u001b[39;49m\u001b[39mself\u001b[39;49m\u001b[39m.\u001b[39;49mCOLUMN_NAME_MAPPER, \u001b[39m# type: ignore\u001b[39;49;00m\n\u001b[1;32m    159\u001b[0m             known_percentages\u001b[39m=\u001b[39;49m\u001b[39mself\u001b[39;49m\u001b[39m.\u001b[39;49mKNOWN_PERCENTAGES,\n\u001b[1;32m    160\u001b[0m             row_id_func\u001b[39m=\u001b[39;49m\u001b[39mself\u001b[39;49m\u001b[39m.\u001b[39;49mROW_ID_FUNC,\n\u001b[1;32m    161\u001b[0m             row_id_name\u001b[39m=\u001b[39;49m\u001b[39mself\u001b[39;49m\u001b[39m.\u001b[39;49mROW_ID_NAME,\n\u001b[1;32m    162\u001b[0m         )\n\u001b[1;32m    163\u001b[0m     )\n\u001b[1;32m    164\u001b[0m )\n",
      "File \u001b[0;32m~/Library/Python/3.9/lib/python/site-packages/pybaseball/datasources/html_table_processor.py:90\u001b[0m, in \u001b[0;36mHTMLTableProcessor.get_tabular_data_from_options\u001b[0;34m(self, base_url, query_params, column_name_mapper, known_percentages, row_id_func, row_id_name)\u001b[0m\n\u001b[1;32m     86\u001b[0m \u001b[39mdef\u001b[39;00m \u001b[39mget_tabular_data_from_options\u001b[39m(\u001b[39mself\u001b[39m, base_url: \u001b[39mstr\u001b[39m, query_params: Dict[\u001b[39mstr\u001b[39m, Union[\u001b[39mstr\u001b[39m, \u001b[39mint\u001b[39m]],\n\u001b[1;32m     87\u001b[0m                                   column_name_mapper: ColumnListMapperFunction \u001b[39m=\u001b[39m \u001b[39mNone\u001b[39;00m,\n\u001b[1;32m     88\u001b[0m                                   known_percentages: Optional[List[\u001b[39mstr\u001b[39m]] \u001b[39m=\u001b[39m \u001b[39mNone\u001b[39;00m, row_id_func: RowIdFunction \u001b[39m=\u001b[39m \u001b[39mNone\u001b[39;00m,\n\u001b[1;32m     89\u001b[0m                                   row_id_name: Optional[\u001b[39mstr\u001b[39m] \u001b[39m=\u001b[39m \u001b[39mNone\u001b[39;00m) \u001b[39m-\u001b[39m\u001b[39m>\u001b[39m pd\u001b[39m.\u001b[39mDataFrame:\n\u001b[0;32m---> 90\u001b[0m     \u001b[39mreturn\u001b[39;00m \u001b[39mself\u001b[39;49m\u001b[39m.\u001b[39;49mget_tabular_data_from_url(\n\u001b[1;32m     91\u001b[0m         base_url,\n\u001b[1;32m     92\u001b[0m         query_params\u001b[39m=\u001b[39;49mquery_params,\n\u001b[1;32m     93\u001b[0m         column_name_mapper\u001b[39m=\u001b[39;49mcolumn_name_mapper,\n\u001b[1;32m     94\u001b[0m         known_percentages\u001b[39m=\u001b[39;49mknown_percentages,\n\u001b[1;32m     95\u001b[0m         row_id_func\u001b[39m=\u001b[39;49mrow_id_func,\n\u001b[1;32m     96\u001b[0m         row_id_name\u001b[39m=\u001b[39;49mrow_id_name,\n\u001b[1;32m     97\u001b[0m     )\n",
      "File \u001b[0;32m~/Library/Python/3.9/lib/python/site-packages/pybaseball/datasources/html_table_processor.py:74\u001b[0m, in \u001b[0;36mHTMLTableProcessor.get_tabular_data_from_url\u001b[0;34m(self, url, query_params, column_name_mapper, known_percentages, row_id_func, row_id_name)\u001b[0m\n\u001b[1;32m     71\u001b[0m response \u001b[39m=\u001b[39m requests\u001b[39m.\u001b[39mget(\u001b[39mself\u001b[39m\u001b[39m.\u001b[39mroot_url \u001b[39m+\u001b[39m url, params\u001b[39m=\u001b[39mquery_params)\n\u001b[1;32m     73\u001b[0m \u001b[39mif\u001b[39;00m response\u001b[39m.\u001b[39mstatus_code \u001b[39m>\u001b[39m \u001b[39m399\u001b[39m:\n\u001b[0;32m---> 74\u001b[0m     \u001b[39mraise\u001b[39;00m requests\u001b[39m.\u001b[39mexceptions\u001b[39m.\u001b[39mHTTPError(\n\u001b[1;32m     75\u001b[0m         \u001b[39mf\u001b[39m\u001b[39m\"\u001b[39m\u001b[39mError accessing \u001b[39m\u001b[39m'\u001b[39m\u001b[39m{\u001b[39;00m\u001b[39mself\u001b[39m\u001b[39m.\u001b[39mroot_url\u001b[39m \u001b[39m\u001b[39m+\u001b[39m\u001b[39m \u001b[39murl\u001b[39m}\u001b[39;00m\u001b[39m'\u001b[39m\u001b[39m. Received status code \u001b[39m\u001b[39m{\u001b[39;00mresponse\u001b[39m.\u001b[39mstatus_code\u001b[39m}\u001b[39;00m\u001b[39m\"\u001b[39m\n\u001b[1;32m     76\u001b[0m     )\n\u001b[1;32m     78\u001b[0m \u001b[39mreturn\u001b[39;00m \u001b[39mself\u001b[39m\u001b[39m.\u001b[39mget_tabular_data_from_html(\n\u001b[1;32m     79\u001b[0m     response\u001b[39m.\u001b[39mcontent,\n\u001b[1;32m     80\u001b[0m     column_name_mapper\u001b[39m=\u001b[39mcolumn_name_mapper,\n\u001b[0;32m   (...)\u001b[0m\n\u001b[1;32m     83\u001b[0m     row_id_name\u001b[39m=\u001b[39mrow_id_name,\n\u001b[1;32m     84\u001b[0m )\n",
      "\u001b[0;31mHTTPError\u001b[0m: Error accessing 'https://www.fangraphs.com/leaders.aspx'. Received status code 500"
     ]
    }
   ],
   "source": [
    "START = 1973\n",
    "END = 2023\n",
    "\n",
    "batting = batting_stats(START, END, qual=200)\n",
    "batting = batting.groupby(\"IDfg\", group_keys=False).filter(lambda x: x.shape[0] > 1)\n",
    "\n",
    "batting.to_csv(\"fiddy.csv\")\n",
    "\n",
    "#extension = 'csv'\n",
    "#all_batting = glob.glob('bat*.{}'.format(extension))\n",
    "\n",
    "#concat_bat = pd.concat([pd.read_csv(f) for f in all_batting ], ignore_index=True)\n",
    "#print(concat_bat)\n",
    "\n",
    "#concat_bat.to_csv('all_batting.csv', index=False)"
   ]
  },
  {
   "cell_type": "code",
   "execution_count": null,
   "metadata": {},
   "outputs": [],
   "source": [
    "allbat = pd.read_csv('all_batting.csv', low_memory=False)"
   ]
  },
  {
   "cell_type": "code",
   "execution_count": null,
   "metadata": {},
   "outputs": [],
   "source": [
    "\n",
    "def next_season(player):\n",
    "    player = player.sort_values(\"Season\")\n",
    "    player[\"Next_WAR\"] = player[\"WAR\"].shift(-1)\n",
    "    return player\n",
    "\n",
    "allbat = allbat.groupby(\"IDfg\", group_keys=False).apply(next_season)\n",
    "allbat[[\"Name\", \"Season\", \"WAR\", \"Next_WAR\"]]"
   ]
  },
  {
   "cell_type": "code",
   "execution_count": null,
   "metadata": {},
   "outputs": [],
   "source": [
    "null_count = allbat.isnull().sum()\n",
    "\n",
    "null_count"
   ]
  },
  {
   "cell_type": "code",
   "execution_count": null,
   "metadata": {},
   "outputs": [],
   "source": [
    "complete_col = list(allbat.columns[null_count == 0])"
   ]
  },
  {
   "cell_type": "code",
   "execution_count": null,
   "metadata": {},
   "outputs": [],
   "source": [
    "allbat = allbat[complete_col + [\"Next_WAR\"]].copy()\n",
    "allbat"
   ]
  },
  {
   "cell_type": "code",
   "execution_count": null,
   "metadata": {},
   "outputs": [],
   "source": [
    "allbat.dtypes"
   ]
  },
  {
   "cell_type": "code",
   "execution_count": null,
   "metadata": {},
   "outputs": [],
   "source": [
    "# Getting rid of unnecessary 'string' --- not needed for ML\n",
    "\n",
    "del allbat[\"Age Rng\"]\n",
    "del allbat[\"Unnamed: 0\"]"
   ]
  },
  {
   "cell_type": "code",
   "execution_count": null,
   "metadata": {},
   "outputs": [],
   "source": [
    "allbat[\"team_code\"] = allbat[\"Team\"].astype(\"category\").cat.codes"
   ]
  },
  {
   "cell_type": "code",
   "execution_count": null,
   "metadata": {},
   "outputs": [],
   "source": [
    "batting_full = allbat.copy()\n",
    "\n",
    "allbat = allbat.dropna().copy()"
   ]
  },
  {
   "cell_type": "code",
   "execution_count": null,
   "metadata": {},
   "outputs": [],
   "source": [
    "from sklearn.linear_model import Ridge\n",
    "from sklearn.feature_selection import SequentialFeatureSelector\n",
    "from sklearn.model_selection import TimeSeriesSplit\n",
    "\n",
    "rr = Ridge(alpha=1)\n",
    "\n",
    "split = TimeSeriesSplit(n_splits=3)\n",
    "\n",
    "sfs = SequentialFeatureSelector(rr, n_features_to_select=15, direction=\"forward\", cv=split, n_jobs=8)"
   ]
  },
  {
   "cell_type": "code",
   "execution_count": null,
   "metadata": {},
   "outputs": [],
   "source": [
    "removed_columns = [\"Next_WAR\", \"Name\", \"Team\", \"IDfg\", \"Season\"]\n",
    "selected_columns = allbat.columns[~allbat.columns.isin(removed_columns)]"
   ]
  },
  {
   "cell_type": "code",
   "execution_count": null,
   "metadata": {},
   "outputs": [],
   "source": [
    "# RidgeReg requires scaling data s/t mu = 0 & sigma = 1 --- instead, using more aggressive scaling\n",
    "\n",
    "from sklearn.preprocessing import MinMaxScaler\n",
    "\n",
    "scaler = MinMaxScaler()\n",
    "allbat.loc[:, selected_columns] = scaler.fit_transform(allbat[selected_columns])"
   ]
  },
  {
   "cell_type": "code",
   "execution_count": null,
   "metadata": {},
   "outputs": [],
   "source": [
    "allbat.describe()"
   ]
  },
  {
   "cell_type": "code",
   "execution_count": null,
   "metadata": {},
   "outputs": [],
   "source": [
    "sfs.fit(allbat[selected_columns], allbat[\"Next_WAR\"])"
   ]
  },
  {
   "cell_type": "code",
   "execution_count": null,
   "metadata": {},
   "outputs": [],
   "source": [
    "predictors = list(selected_columns[sfs.get_support()])"
   ]
  },
  {
   "cell_type": "code",
   "execution_count": null,
   "metadata": {},
   "outputs": [],
   "source": [
    "def backtest(data, model, predictors, start=5, step=1):\n",
    "    all_predictions = []\n",
    "\n",
    "    years = sorted(data[\"Season\"].unique())\n",
    "\n",
    "    for i in range(start, len(years), step):\n",
    "        current_year = years[i]\n",
    "\n",
    "        train = data[data[\"Season\"] < current_year]\n",
    "        test = data[data[\"Season\"] == current_year]\n",
    "\n",
    "        model.fit(train[predictors], train[\"Next_WAR\"])\n",
    "\n",
    "        preds = model.predict(test[predictors])\n",
    "        preds = pd.Series(preds, index=test.index)\n",
    "        combined = pd.concat([test[\"Next_WAR\"], preds], axis=1)\n",
    "        combined.columns = [\"actual\", \"prediction\"]\n",
    "\n",
    "        all_predictions.append(combined)\n",
    "    return pd.concat(all_predictions)"
   ]
  },
  {
   "cell_type": "code",
   "execution_count": null,
   "metadata": {},
   "outputs": [],
   "source": [
    "predictions = backtest(allbat, rr, predictors)\n",
    "\n",
    "predictions"
   ]
  },
  {
   "cell_type": "code",
   "execution_count": null,
   "metadata": {},
   "outputs": [],
   "source": [
    "from sklearn.metrics import mean_squared_error\n",
    "\n",
    "mse = mean_squared_error(predictions[\"actual\"], predictions[\"prediction\"])"
   ]
  },
  {
   "cell_type": "code",
   "execution_count": null,
   "metadata": {},
   "outputs": [],
   "source": [
    "allbat[\"Next_WAR\"].describe()"
   ]
  },
  {
   "cell_type": "code",
   "execution_count": null,
   "metadata": {},
   "outputs": [],
   "source": [
    "mse ** 0.5"
   ]
  },
  {
   "attachments": {},
   "cell_type": "markdown",
   "metadata": {},
   "source": [
    "okay model... could be better (let's do that!)"
   ]
  },
  {
   "cell_type": "code",
   "execution_count": null,
   "metadata": {},
   "outputs": [],
   "source": [
    "def player_history(df):\n",
    "    df = df.sort_values(\"Season\")\n",
    "\n",
    "    df[\"player_season\"] = range(0, df.shape[0])\n",
    "    df[\"war_corr\"] = list(df[[\"player_season\", \"WAR\"]].expanding().corr().loc[(slice(None), \"player_season\"), \"WAR\"])\n",
    "    df[\"war_corr\"].fillna(1, inplace=True)\n",
    "\n",
    "    df[\"war_diff\"] = df[\"WAR\"]/df[\"WAR\"].shift(1)\n",
    "    df[\"war_diff\"].fillna(1, inplace=True)\n",
    "\n",
    "    df[\"war_diff\"][df[\"war_diff\"] == np.inf] = 1\n",
    "\n",
    "    return df\n",
    "\n",
    "allbat = allbat.groupby(\"IDfg\", group_keys=False).apply(player_history)"
   ]
  },
  {
   "cell_type": "code",
   "execution_count": null,
   "metadata": {},
   "outputs": [],
   "source": [
    "def group_averages(df):\n",
    "    return df[\"WAR\"] / df[\"WAR\"].mean()"
   ]
  },
  {
   "cell_type": "code",
   "execution_count": null,
   "metadata": {},
   "outputs": [],
   "source": [
    "allbat[\"war_season\"] = allbat.groupby(\"Season\", group_keys=False).apply(group_averages)"
   ]
  },
  {
   "cell_type": "code",
   "execution_count": null,
   "metadata": {},
   "outputs": [],
   "source": [
    "new_predictors = predictors + [\"player_season\", \"war_corr\", \"war_season\", \"war_diff\"]"
   ]
  },
  {
   "cell_type": "code",
   "execution_count": null,
   "metadata": {},
   "outputs": [],
   "source": [
    "allbat[[\"Name\", \"Season\", \"WAR\", \"Next_WAR\",\"player_season\", \"war_corr\", \"war_season\", \"war_diff\"]].sample(50)"
   ]
  },
  {
   "cell_type": "code",
   "execution_count": null,
   "metadata": {},
   "outputs": [],
   "source": [
    "allbat.info()"
   ]
  },
  {
   "cell_type": "code",
   "execution_count": null,
   "metadata": {},
   "outputs": [],
   "source": [
    "predictions = backtest(allbat, rr, new_predictors)\n",
    "predictions"
   ]
  },
  {
   "cell_type": "code",
   "execution_count": null,
   "metadata": {},
   "outputs": [],
   "source": [
    "mean_squared_error(predictions[\"actual\"], predictions[\"prediction\"])"
   ]
  },
  {
   "cell_type": "code",
   "execution_count": null,
   "metadata": {},
   "outputs": [],
   "source": [
    "pd.Series(rr.coef_, index=new_predictors).sort_values()"
   ]
  },
  {
   "cell_type": "code",
   "execution_count": null,
   "metadata": {},
   "outputs": [],
   "source": [
    "diff = predictions[\"actual\"] - predictions[\"prediction\"]\n",
    "diff"
   ]
  },
  {
   "cell_type": "code",
   "execution_count": null,
   "metadata": {},
   "outputs": [],
   "source": [
    "merged = predictions.merge(allbat, left_index=True, right_index=True)\n",
    "merged[\"diff\"] = (diff.abs())\n",
    "merged"
   ]
  },
  {
   "cell_type": "code",
   "execution_count": null,
   "metadata": {},
   "outputs": [],
   "source": [
    "merged[[\"IDfg\", \"Season\", \"Name\", \"WAR\", \"Next_WAR\", \"diff\"]].sort_values([\"diff\"])"
   ]
  },
  {
   "cell_type": "code",
   "execution_count": null,
   "metadata": {},
   "outputs": [],
   "source": []
  }
 ],
 "metadata": {
  "kernelspec": {
   "display_name": "Python 3",
   "language": "python",
   "name": "python3"
  },
  "language_info": {
   "codemirror_mode": {
    "name": "ipython",
    "version": 3
   },
   "file_extension": ".py",
   "mimetype": "text/x-python",
   "name": "python",
   "nbconvert_exporter": "python",
   "pygments_lexer": "ipython3",
   "version": "3.9.6"
  },
  "orig_nbformat": 4
 },
 "nbformat": 4,
 "nbformat_minor": 2
}
